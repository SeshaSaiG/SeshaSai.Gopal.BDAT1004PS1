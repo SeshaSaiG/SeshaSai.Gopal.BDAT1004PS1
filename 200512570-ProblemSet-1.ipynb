{
 "cells": [
  {
   "cell_type": "markdown",
   "id": "bf0db8a3",
   "metadata": {},
   "source": [
    "# Question 1"
   ]
  },
  {
   "cell_type": "code",
   "execution_count": 78,
   "id": "b9304bc4",
   "metadata": {},
   "outputs": [
    {
     "name": "stdout",
     "output_type": "stream",
     "text": [
      "<class 'int'>\n",
      "<class 'float'>\n",
      "<class 'bool'>\n",
      "<class 'str'>\n",
      "<class 'int'>\n",
      "<class 'str'>\n",
      "<class 'str'>\n",
      "<class 'float'>\n",
      "<class 'int'>\n",
      "<class 'set'>\n",
      "<class 'bool'>\n",
      "<class 'float'>\n"
     ]
    }
   ],
   "source": [
    "import math\n",
    "a=5\n",
    "b=5.0\n",
    "c=5 > 1\n",
    "d='5'\n",
    "e=5 * 2\n",
    "f='5' * 2\n",
    "g='5' + '2'\n",
    "h=5 / 2\n",
    "i=5 % 2\n",
    "j={5, 2, 1}\n",
    "k=5 == 3\n",
    "l=math.pi\n",
    "print(type(a))\n",
    "print(type(b))\n",
    "print(type(c))\n",
    "print(type(d))\n",
    "print(type(e))\n",
    "print(type(f))\n",
    "print(type(g))\n",
    "print(type(h))\n",
    "print(type(i))\n",
    "print(type(j))\n",
    "print(type(k))\n",
    "print(type(l))"
   ]
  },
  {
   "cell_type": "markdown",
   "id": "d822eeaa",
   "metadata": {},
   "source": [
    "# Question 2"
   ]
  },
  {
   "cell_type": "code",
   "execution_count": 81,
   "id": "13f98cdd",
   "metadata": {},
   "outputs": [
    {
     "name": "stdout",
     "output_type": "stream",
     "text": [
      "Question 2:1\n",
      "Supercalifragilisticexpialidocious has 34 characters\n"
     ]
    }
   ],
   "source": [
    "print('Question 2:1')\n",
    "a='Supercalifragilisticexpialidocious'\n",
    "print('Supercalifragilisticexpialidocious has ' + str(len(a)) + ' characters')"
   ]
  },
  {
   "cell_type": "code",
   "execution_count": 26,
   "id": "7e880131",
   "metadata": {},
   "outputs": [
    {
     "name": "stdout",
     "output_type": "stream",
     "text": [
      "Question 2:2\n",
      "ice found in Supercalifragilisticexpialidocious\n"
     ]
    }
   ],
   "source": [
    "print('Question 2:2')\n",
    "a='Supercalifragilisticexpialidocious'\n",
    "b='ice'\n",
    "if (a.find(b) > 0):\n",
    "    print('ice found in '+a)\n",
    "else:\n",
    "    print('ice not found in '+a)"
   ]
  },
  {
   "cell_type": "code",
   "execution_count": 27,
   "id": "f0770262",
   "metadata": {},
   "outputs": [
    {
     "name": "stdout",
     "output_type": "stream",
     "text": [
      "Question 2:3\n",
      "Supercalifragilisticexpialidocious  Bababadalgharaghtakamminarronnkonn are the longest words with 34 letters each\n"
     ]
    }
   ],
   "source": [
    "print('Question 2:3')\n",
    "a='Supercalifragilisticexpialidocious'\n",
    "b='Honorificabilitudinitatibus'\n",
    "c='Bababadalgharaghtakamminarronnkonn'\n",
    "d=[len(b),len(c),len(a)]\n",
    "e=max(d)\n",
    "f=''\n",
    "if (e==len(a)):\n",
    "    f=a\n",
    "else:\n",
    "    f=''\n",
    "if (e==len(b)):\n",
    "    g=b\n",
    "else:\n",
    "    g=''\n",
    "if (e==len(c)):\n",
    "    h=c\n",
    "else:\n",
    "    h=''\n",
    "print(f,g,h + ' are the longest words with '  + str(e) + ' letters each')\n"
   ]
  },
  {
   "cell_type": "code",
   "execution_count": 28,
   "id": "3cba3726",
   "metadata": {},
   "outputs": [
    {
     "name": "stdout",
     "output_type": "stream",
     "text": [
      "Question 2:4\n",
      "Bartok comes first in the dictionary while Buxtehude comes at the last\n"
     ]
    }
   ],
   "source": [
    "print('Question 2:4')\n",
    "a=['Berlioz', 'Borodin', 'Brian', 'Bartok', 'Bellini', 'Buxtehude', 'Bernstein']\n",
    "print(min(a) + ' comes first in the dictionary while ' + max(a) + ' comes at the last')"
   ]
  },
  {
   "cell_type": "markdown",
   "id": "fefbd4f5",
   "metadata": {},
   "source": [
    "# Question 3"
   ]
  },
  {
   "cell_type": "code",
   "execution_count": 29,
   "id": "c01f3717",
   "metadata": {},
   "outputs": [
    {
     "name": "stdout",
     "output_type": "stream",
     "text": [
      "Question 3\n",
      "Lets find the area of a triangle\n",
      "Please enter the value of side A\n",
      "2\n",
      "Please enter the value of side B\n",
      "2\n",
      "Please enter the value of side C\n",
      "2\n",
      "TriangleArea(2,2,2) is 1.7320508075688772\n"
     ]
    }
   ],
   "source": [
    "import math\n",
    "print('Question 3')\n",
    "print('Lets find the area of a triangle')\n",
    "print('Please enter the value of side A')\n",
    "A=int(input())\n",
    "print('Please enter the value of side B')\n",
    "B=int(input())\n",
    "print('Please enter the value of side C')\n",
    "C=int(input())\n",
    "tri=(A+B+C)/2\n",
    "TriangleArea=math.sqrt(tri*(tri-A)*(tri-B)*(tri-C))\n",
    "print('TriangleArea(' + str(A) + ',' + str(B) + ',' + str(C) + ') is ' + str(TriangleArea))"
   ]
  },
  {
   "cell_type": "markdown",
   "id": "b2a2b3f3",
   "metadata": {},
   "source": [
    "# Question 4"
   ]
  },
  {
   "cell_type": "code",
   "execution_count": 30,
   "id": "1de9db41",
   "metadata": {},
   "outputs": [
    {
     "name": "stdout",
     "output_type": "stream",
     "text": [
      "Question 4\n",
      "The Even elements are: 42,56,32\n",
      "The Odd elements are: 25,47\n"
     ]
    }
   ],
   "source": [
    "print('Question 4')\n",
    "a=[25,47,42,56,32]\n",
    "i=0\n",
    "b=[]\n",
    "c=[]\n",
    "d=''\n",
    "e=''\n",
    "#print(len(e)>1)\n",
    "j=len(a)-1\n",
    "while (i<=j):\n",
    "    if (a[i]%2==0):\n",
    "        #print(a[i])\n",
    "        #b.append(a[i])\n",
    "        if (len(e)>1):\n",
    "            e = e + ',' + str(a[i])\n",
    "        else:\n",
    "            e = str(a[i])\n",
    "    else:\n",
    "        #print(b)\n",
    "        #c.append(a[i])\n",
    "        if (len(d)>1):\n",
    "            d = d + ',' + str(a[i])\n",
    "        else:\n",
    "            d = str(a[i])\n",
    "        \n",
    "    i+=1\n",
    "#print('The Even elements are: ' + str(b))\n",
    "#print('The Odd elements are: ' + str(c))\n",
    "print('The Even elements are: ' + e)\n",
    "print('The Odd elements are: ' + d)"
   ]
  },
  {
   "cell_type": "markdown",
   "id": "70e167c6",
   "metadata": {},
   "source": [
    "# Question 5"
   ]
  },
  {
   "cell_type": "code",
   "execution_count": 82,
   "id": "e05b802b",
   "metadata": {},
   "outputs": [
    {
     "name": "stdout",
     "output_type": "stream",
     "text": [
      "In a rectangle (x,y) lies in the lower left corner (x1,y1) and upper right corner (x2,y2) : True\n",
      "In a rectangle (x,y) lies in the lower left corner (x1,y1) and upper right corner (x2,y2) : False\n",
      "In a rectangle (x,y) lies in the lower left corner (x1,y1) and upper right corner (x2,y2) : False\n"
     ]
    }
   ],
   "source": [
    "def inside(x,y,x1,y1,x2,y2):\n",
    "    return x>x1 and y>y1 and x<x2 and y<y2\n",
    "print('In a rectangle (x,y) lies in the lower left corner (x1,y1) and upper right corner (x2,y2) : ' + str(inside(1,1,0,0,2,3)))\n",
    "print('In a rectangle (x,y) lies in the lower left corner (x1,y1) and upper right corner (x2,y2) : ' + str(inside(-1,-1,0,0,2,3)))\n",
    "print('In a rectangle (x,y) lies in the lower left corner (x1,y1) and upper right corner (x2,y2) : ' + str(inside(1,1,0.3,0.5,1.1,0.7)))"
   ]
  },
  {
   "cell_type": "markdown",
   "id": "13adc6d6",
   "metadata": {},
   "source": [
    "# Question 6"
   ]
  },
  {
   "cell_type": "code",
   "execution_count": 31,
   "id": "d65dd941",
   "metadata": {},
   "outputs": [
    {
     "name": "stdout",
     "output_type": "stream",
     "text": [
      "Question 6\n",
      "Enter a word\n",
      "Happy\n",
      "pig-Latin of Happy is : appyhay\n"
     ]
    }
   ],
   "source": [
    "print('Question 6')\n",
    "print('Enter a word')\n",
    "a=input()\n",
    "b=a.lower()\n",
    "c=b[0]\n",
    "#print(c)\n",
    "d=['a','e','i','o','u']\n",
    "e=len(b)\n",
    "f=list(b.split())\n",
    "#print(e)\n",
    "#print(f)\n",
    "#print(c in d)\n",
    "g=str(c in d)\n",
    "#print(type(g))\n",
    "h=1\n",
    "i=e-1\n",
    "j=''\n",
    "while (h<=i):\n",
    "    j = j + b[h]\n",
    "    h = h + 1\n",
    "#else:\n",
    "    #print(h)\n",
    "    #print(j)\n",
    "    \n",
    "k=''\n",
    "if (g=='True'):\n",
    "    k = b + 'way'\n",
    "else:\n",
    "    k = j + c + 'ay'\n",
    "print('pig-Latin of ' + a + ' is : ' + k)\n",
    "    "
   ]
  },
  {
   "cell_type": "markdown",
   "id": "2a19cc4a",
   "metadata": {},
   "source": [
    "# Question 7"
   ]
  },
  {
   "cell_type": "code",
   "execution_count": 83,
   "id": "9fda506c",
   "metadata": {},
   "outputs": [
    {
     "name": "stdout",
     "output_type": "stream",
     "text": [
      "15 patients have blood group A\n",
      "1 patients have blood group B\n",
      "13 patients have blood group AB\n",
      "15 patients have blood group O\n",
      "0 patients have blood group OO\n"
     ]
    }
   ],
   "source": [
    "bgroups=\"\"\n",
    "with open(\"bloodtype1.txt\",'r') as f:\n",
    " bgroups = f.readline().split()\n",
    "A=0\n",
    "B=0\n",
    "AB=0\n",
    "O=0\n",
    "OO=0\n",
    "count = 0\n",
    "for grp in bgroups:\n",
    "    if grp == 'A':\n",
    "        A+=1\n",
    "    elif grp =='B':\n",
    "       B+=1\n",
    "    elif grp =='AB':\n",
    "       AB+=1\n",
    "    elif grp =='O':\n",
    "       O+=1\n",
    "    elif grp =='OO':\n",
    "       OO+=1   \n",
    "    else :\n",
    "        count +=1\n",
    "\n",
    "print(str(A) +\" patients have blood group A\")\n",
    "print(str(B) +\" patients have blood group B\")\n",
    "print(str(AB) +\" patients have blood group AB\")\n",
    "print(str(O) +\" patients have blood group O\")\n",
    "print(str(OO) +\" patients have blood group OO\")"
   ]
  },
  {
   "cell_type": "markdown",
   "id": "22246d0d",
   "metadata": {},
   "source": [
    "# Question 8"
   ]
  },
  {
   "cell_type": "code",
   "execution_count": 84,
   "id": "709d6287",
   "metadata": {},
   "outputs": [
    {
     "name": "stdout",
     "output_type": "stream",
     "text": [
      "<class 'list'>\n",
      "['Dollar\\n']\n",
      "AUD\t1.0345157\tAustralianDollar\n"
     ]
    }
   ],
   "source": [
    "curr = open(\"currencies.txt\",'r')\n",
    "currlst = curr.readline().split(' ')\n",
    "print(type(currlst))\n",
    "print(currlst[1:2])\n",
    "for char in currlst:\n",
    "    print(char, end='')"
   ]
  },
  {
   "cell_type": "code",
   "execution_count": 85,
   "id": "f4922c9d",
   "metadata": {},
   "outputs": [
    {
     "name": "stdout",
     "output_type": "stream",
     "text": [
      "['AUD\\t1.0345157\\tAustralian Dollar\\n', 'CHF\\t1.0237414\\tSwiss Franc\\n', 'CNY\\t0.1550176\\tChinese Yuan\\n', 'DKK\\t0.1651442\\tDanish Krone\\n', 'EUR\\t1.2296544\\tEuro\\n', 'GBP\\t1.5550989\\tBritish Pound\\n', 'HKD\\t0.1270207\\tHong Kong Dollar\\n', 'INR\\t0.0177643\\tIndian Rupee\\n', 'JPY\\t0.01241401\\tJapanese Yen\\n', 'MXN\\t0.0751848\\tMexican Peso\\n', 'MYR\\t0.3145411\\tMalaysian Ringgit\\n', 'NOK\\t0.1677063\\tNorwegian Krone\\n', 'NZD\\t0.8003591\\tNew Zealand Dollar\\n', 'PHP\\t0.0233234\\tPhilippine Peso\\n', 'SEK\\t0.148269\\tSwedish Krona\\n', 'SGD\\t0.788871\\tSingapore Dollar\\n', 'THB\\t0.0313789\\tThai Baht']\n"
     ]
    }
   ],
   "source": [
    "with open(\"currencies.txt\", \"r\") as f:\n",
    "    lines = f.readlines()\n",
    "    print(lines)"
   ]
  },
  {
   "cell_type": "markdown",
   "id": "191dae81",
   "metadata": {},
   "source": [
    "# Question 9"
   ]
  },
  {
   "cell_type": "code",
   "execution_count": 32,
   "id": "02c90139",
   "metadata": {},
   "outputs": [
    {
     "name": "stdout",
     "output_type": "stream",
     "text": [
      "Question 9:1\n",
      "Trying to add incompatible variables, as in adding 6 + ‘a’\n",
      "Trying to add a + b causes the following exception - TypeError: unsupported operand type(s) for +: int and str\n"
     ]
    }
   ],
   "source": [
    "print('Question 9:1')\n",
    "print('Trying to add incompatible variables, as in adding 6 + ‘a’')\n",
    "a=6\n",
    "b='a'\n",
    "#print(a + b)\n",
    "print('Trying to add a + b causes the following exception - TypeError: unsupported operand type(s) for +: ''int'' and ''str''')\n"
   ]
  },
  {
   "cell_type": "code",
   "execution_count": 38,
   "id": "c9df6978",
   "metadata": {},
   "outputs": [
    {
     "name": "stdout",
     "output_type": "stream",
     "text": [
      "Question 9:2\n",
      "Referring to the 12th item of a list that has only 10 items\n",
      "Last of index a is 10\n",
      "Trying to refer a[12] causes the following exception - IndexError: list index out of range\n"
     ]
    }
   ],
   "source": [
    "print('Question 9:2')\n",
    "print('Referring to the 12th item of a list that has only 10 items')\n",
    "a=['a','b','c','d','e','f','g','h','i','j']\n",
    "print('Last of index a is ' + str(len(a)))\n",
    "#print(a[12])\n",
    "print('Trying to refer a' +'[12' + ']' +' causes the following exception - IndexError: list index out of range')\n"
   ]
  },
  {
   "cell_type": "code",
   "execution_count": 46,
   "id": "5e92fc24",
   "metadata": {},
   "outputs": [
    {
     "name": "stdout",
     "output_type": "stream",
     "text": [
      "Using a value that is out of range for a function’s input, such as calling math.sqrt(-1.0)\n",
      "Trying to evaluate value that is out of range causes the following exception - ValueError: math domain error\n"
     ]
    }
   ],
   "source": [
    "import math\n",
    "print('Question 9:3')\n",
    "print('Using a value that is out of range for a function’s input, such as calling math.sqrt(-1.0)')\n",
    "#print(math.sqrt(-1.0))\n",
    "print('Trying to evaluate value that is out of range causes the following exception - ValueError: math domain error')\n"
   ]
  },
  {
   "cell_type": "code",
   "execution_count": 39,
   "id": "81692b2f",
   "metadata": {
    "scrolled": false
   },
   "outputs": [
    {
     "name": "stdout",
     "output_type": "stream",
     "text": [
      "Question 9:4\n",
      "Using an undeclared variable, such as print(x) when x has not been defined\n",
      "Trying to print undefined variable causes the following exception - NameError: name x is not defined\n"
     ]
    }
   ],
   "source": [
    "print('Question 9:4')\n",
    "print('Using an undeclared variable, such as print(x) when x has not been defined')\n",
    "#print(x)\n",
    "print('Trying to print undefined variable causes the following exception - NameError: name x is not defined')"
   ]
  },
  {
   "cell_type": "code",
   "execution_count": 41,
   "id": "ab80a02d",
   "metadata": {},
   "outputs": [
    {
     "name": "stdout",
     "output_type": "stream",
     "text": [
      "Question 9:5\n",
      "Trying to open a file that does not exist, such as mistyping the file name or looking in the wrong directory.\n",
      "Trying to open a file that does not exist causes the following exception - FileNotFoundError: [Errno 2] No such file or directory: cars.txt\n"
     ]
    }
   ],
   "source": [
    "print('Question 9:5')\n",
    "print('Trying to open a file that does not exist, such as mistyping the file name or looking in the wrong directory.')\n",
    "#carfile=open('cars.txt')\n",
    "print('Trying to open a file that does not exist causes the following exception - FileNotFoundError: [Errno 2] No such file or directory: cars.txt')"
   ]
  },
  {
   "cell_type": "markdown",
   "id": "b3ebf709",
   "metadata": {},
   "source": [
    "# Question 10"
   ]
  },
  {
   "cell_type": "code",
   "execution_count": 42,
   "id": "0dae71f7",
   "metadata": {},
   "outputs": [
    {
     "name": "stdout",
     "output_type": "stream",
     "text": [
      "Question 10\n",
      "Lets have fun! say something\n",
      "Apple\n",
      "frequency of Apple is : [1, 0, 0, 0, 1, 0, 0, 0, 0, 0, 0, 1, 0, 0, 0, 2, 0, 0, 0, 0, 0, 0, 0, 0, 0, 0]\n"
     ]
    }
   ],
   "source": [
    "print('Question 10')\n",
    "print('Lets have fun! say something')\n",
    "a='abcdefghijklmnopqrstuvwxyz'\n",
    "b=input()\n",
    "#b='Mango'\n",
    "c=b.lower()\n",
    "d=0\n",
    "e=[]\n",
    "#print(a[25])\n",
    "while (d<=25):\n",
    "    f=c.count(a[d])\n",
    "    e.append(f)\n",
    "    d = d + 1\n",
    "print('frequency of ' + b + ' is : '  + str(e))\n",
    "    "
   ]
  }
 ],
 "metadata": {
  "kernelspec": {
   "display_name": "Python 3 (ipykernel)",
   "language": "python",
   "name": "python3"
  },
  "language_info": {
   "codemirror_mode": {
    "name": "ipython",
    "version": 3
   },
   "file_extension": ".py",
   "mimetype": "text/x-python",
   "name": "python",
   "nbconvert_exporter": "python",
   "pygments_lexer": "ipython3",
   "version": "3.9.12"
  }
 },
 "nbformat": 4,
 "nbformat_minor": 5
}
